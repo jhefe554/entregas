{
  "nbformat": 4,
  "nbformat_minor": 0,
  "metadata": {
    "colab": {
      "provenance": [],
      "authorship_tag": "ABX9TyP9SLcCCDHo4sEgtid4YNp4",
      "include_colab_link": true
    },
    "kernelspec": {
      "name": "python3",
      "display_name": "Python 3"
    },
    "language_info": {
      "name": "python"
    }
  },
  "cells": [
    {
      "cell_type": "markdown",
      "metadata": {
        "id": "view-in-github",
        "colab_type": "text"
      },
      "source": [
        "<a href=\"https://colab.research.google.com/github/jhefe554/entregas/blob/main/Codigo.ipynb\" target=\"_parent\"><img src=\"https://colab.research.google.com/assets/colab-badge.svg\" alt=\"Open In Colab\"/></a>"
      ]
    },
    {
      "cell_type": "markdown",
      "source": [
        "**Actividad Evaluativa 3**\n",
        "\n",
        "**Fecha:** 22 de marzo de 2024\n",
        "\n",
        "**Presentado por:** Jheferson Navas Doria\n",
        "\n",
        "**Email:** jheferson.navas@upb.edu.co"
      ],
      "metadata": {
        "id": "K9e3wYeBH0lm"
      }
    },
    {
      "cell_type": "code",
      "source": [
        "import math\n",
        "# declaración de variables\n",
        "MEDIA = 1000\n",
        "DESVIACION_ESTANDAR = 300\n",
        "UMBRAL = 0.3\n",
        "frecuencia_señal = float(input(\"Ingrese la frecuencia de la señal: \"))\n",
        "probabilidad_acumulada = 0\n",
        "for f in range(int(frecuencia_señal) + 1):\n",
        "    resultado = (1 / (DESVIACION_ESTANDAR * math.sqrt(2 * math.pi))) * math.exp(-(1/2) * ((f - MEDIA) / DESVIACION_ESTANDAR)**2 )\n",
        "    probabilidad_acumulada += resultado\n",
        "if probabilidad_acumulada > UMBRAL:\n",
        "    print(\"La señal pasa el filtro.\")\n",
        "else:\n",
        "    print(\"La señal es bloqueada por el filtro.\")"
      ],
      "metadata": {
        "id": "tQQYtCTN3tdB"
      },
      "execution_count": null,
      "outputs": []
    }
  ]
}