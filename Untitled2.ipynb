{
  "nbformat": 4,
  "nbformat_minor": 0,
  "metadata": {
    "colab": {
      "provenance": [],
      "authorship_tag": "ABX9TyPrHplCTRg6aikiTG1FxoAE",
      "include_colab_link": true
    },
    "kernelspec": {
      "name": "python3",
      "display_name": "Python 3"
    },
    "language_info": {
      "name": "python"
    }
  },
  "cells": [
    {
      "cell_type": "markdown",
      "metadata": {
        "id": "view-in-github",
        "colab_type": "text"
      },
      "source": [
        "<a href=\"https://colab.research.google.com/github/jhefe554/entregas/blob/main/Untitled2.ipynb\" target=\"_parent\"><img src=\"https://colab.research.google.com/assets/colab-badge.svg\" alt=\"Open In Colab\"/></a>"
      ]
    },
    {
      "cell_type": "code",
      "source": [
        "from scipy.stats import norm\n",
        "# Declaración de variables\n",
        "MEDIA = 1000\n",
        "DESVIACION_ESTANDAR = 300\n",
        "UMBRAL = 0.3\n",
        "# Entrada de usuario\n",
        "frecuencia_señal = float(input(\"Ingrese la frecuencia de la señal: \"))\n",
        "# Cálculo de la probabilidad acumulada\n",
        "probabilidad_acumulada = norm.cdf(frecuencia_señal, MEDIA, DESVIACION_ESTANDAR)\n",
        "# Verificación de la señal\n",
        "if probabilidad_acumulada > UMBRAL:\n",
        "    print(\"La señal pasa el filtro.\")\n",
        "else:\n",
        "    print(\"La señal es bloqueada por el filtro.\")"
      ],
      "metadata": {
        "colab": {
          "base_uri": "https://localhost:8080/"
        },
        "id": "tQQYtCTN3tdB",
        "outputId": "8dc64d95-f633-42dd-8b58-badc0de6e0e2"
      },
      "execution_count": 6,
      "outputs": [
        {
          "output_type": "stream",
          "name": "stdout",
          "text": [
            "Ingrese la frecuencia de la señal: 10000\n",
            "La señal pasa el filtro.\n"
          ]
        }
      ]
    }
  ]
}